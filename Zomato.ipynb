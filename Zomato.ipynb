{
 "cells": [
  {
   "cell_type": "markdown",
   "id": "3febc687-5f12-4408-9e8b-68323101a87f",
   "metadata": {},
   "source": [
    "<div style=\"text-align: center;\">\n",
    "  <h1 style=\"font-size: 36px; font-weight: bold; text-decoration: underline;\">Zomato - Classification</h1>\n",
    "</div>"
   ]
  },
  {
   "cell_type": "markdown",
   "id": "aabf7e60-9a8f-4ae3-8f9c-c05cf2abed14",
   "metadata": {},
   "source": [
    "![Zomato](C:\\Users\\test\\Zomato.jpg)"
   ]
  },
  {
   "cell_type": "markdown",
   "id": "9f6951b3-47c6-472e-83b3-2aa79151520f",
   "metadata": {},
   "source": [
    "# Imoprt library"
   ]
  },
  {
   "cell_type": "code",
   "execution_count": 2,
   "id": "27434d84-a1c5-4915-bca2-613ad7f9d0c9",
   "metadata": {
    "execution": {
     "iopub.execute_input": "2024-09-22T14:37:25.123945Z",
     "iopub.status.busy": "2024-09-22T14:37:25.122946Z",
     "iopub.status.idle": "2024-09-22T14:37:28.080862Z",
     "shell.execute_reply": "2024-09-22T14:37:28.077866Z",
     "shell.execute_reply.started": "2024-09-22T14:37:25.123945Z"
    }
   },
   "outputs": [],
   "source": [
    "import pandas as pd\n",
    "import numpy as np\n",
    "import plotly.express as px\n",
    "from plotly.subplots import make_subplots\n",
    "import plotly.graph_objects as go\n",
    "from sklearn.model_selection import train_test_split\n",
    "from sklearn.pipeline import Pipeline\n",
    "from sklearn.compose import ColumnTransformer\n",
    "from sklearn.preprocessing import OneHotEncoder, StandardScaler, LabelEncoder\n",
    "from sklearn.impute import SimpleImputer\n",
    "from sklearn.ensemble import RandomForestClassifier\n",
    "from sklearn.linear_model import LogisticRegression\n",
    "from sklearn.svm import SVC\n",
    "from sklearn.metrics import accuracy_score\n",
    "import joblib"
   ]
  },
  {
   "cell_type": "code",
   "execution_count": 4,
   "id": "b2ac6044-4030-4930-bfd4-cb0bfca78ff4",
   "metadata": {
    "execution": {
     "iopub.execute_input": "2024-09-22T14:37:30.804822Z",
     "iopub.status.busy": "2024-09-22T14:37:30.802824Z",
     "iopub.status.idle": "2024-09-22T14:38:06.381102Z",
     "shell.execute_reply": "2024-09-22T14:38:06.372107Z",
     "shell.execute_reply.started": "2024-09-22T14:37:30.804822Z"
    }
   },
   "outputs": [
    {
     "data": {
      "text/html": [
       "<div>\n",
       "<style scoped>\n",
       "    .dataframe tbody tr th:only-of-type {\n",
       "        vertical-align: middle;\n",
       "    }\n",
       "\n",
       "    .dataframe tbody tr th {\n",
       "        vertical-align: top;\n",
       "    }\n",
       "\n",
       "    .dataframe thead th {\n",
       "        text-align: right;\n",
       "    }\n",
       "</style>\n",
       "<table border=\"1\" class=\"dataframe\">\n",
       "  <thead>\n",
       "    <tr style=\"text-align: right;\">\n",
       "      <th></th>\n",
       "      <th>url</th>\n",
       "      <th>address</th>\n",
       "      <th>name</th>\n",
       "      <th>online_order</th>\n",
       "      <th>book_table</th>\n",
       "      <th>rate</th>\n",
       "      <th>votes</th>\n",
       "      <th>phone</th>\n",
       "      <th>location</th>\n",
       "      <th>rest_type</th>\n",
       "      <th>dish_liked</th>\n",
       "      <th>cuisines</th>\n",
       "      <th>approx_cost(for two people)</th>\n",
       "      <th>reviews_list</th>\n",
       "      <th>menu_item</th>\n",
       "      <th>listed_in(type)</th>\n",
       "      <th>listed_in(city)</th>\n",
       "    </tr>\n",
       "  </thead>\n",
       "  <tbody>\n",
       "    <tr>\n",
       "      <th>0</th>\n",
       "      <td>https://www.zomato.com/bangalore/jalsa-banasha...</td>\n",
       "      <td>942, 21st Main Road, 2nd Stage, Banashankari, ...</td>\n",
       "      <td>Jalsa</td>\n",
       "      <td>Yes</td>\n",
       "      <td>Yes</td>\n",
       "      <td>4.1/5</td>\n",
       "      <td>775</td>\n",
       "      <td>080 42297555\\r\\n+91 9743772233</td>\n",
       "      <td>Banashankari</td>\n",
       "      <td>Casual Dining</td>\n",
       "      <td>Pasta, Lunch Buffet, Masala Papad, Paneer Laja...</td>\n",
       "      <td>North Indian, Mughlai, Chinese</td>\n",
       "      <td>800</td>\n",
       "      <td>[('Rated 4.0', 'RATED\\n  A beautiful place to ...</td>\n",
       "      <td>[]</td>\n",
       "      <td>Buffet</td>\n",
       "      <td>Banashankari</td>\n",
       "    </tr>\n",
       "    <tr>\n",
       "      <th>1</th>\n",
       "      <td>https://www.zomato.com/bangalore/spice-elephan...</td>\n",
       "      <td>2nd Floor, 80 Feet Road, Near Big Bazaar, 6th ...</td>\n",
       "      <td>Spice Elephant</td>\n",
       "      <td>Yes</td>\n",
       "      <td>No</td>\n",
       "      <td>4.1/5</td>\n",
       "      <td>787</td>\n",
       "      <td>080 41714161</td>\n",
       "      <td>Banashankari</td>\n",
       "      <td>Casual Dining</td>\n",
       "      <td>Momos, Lunch Buffet, Chocolate Nirvana, Thai G...</td>\n",
       "      <td>Chinese, North Indian, Thai</td>\n",
       "      <td>800</td>\n",
       "      <td>[('Rated 4.0', 'RATED\\n  Had been here for din...</td>\n",
       "      <td>[]</td>\n",
       "      <td>Buffet</td>\n",
       "      <td>Banashankari</td>\n",
       "    </tr>\n",
       "    <tr>\n",
       "      <th>2</th>\n",
       "      <td>https://www.zomato.com/SanchurroBangalore?cont...</td>\n",
       "      <td>1112, Next to KIMS Medical College, 17th Cross...</td>\n",
       "      <td>San Churro Cafe</td>\n",
       "      <td>Yes</td>\n",
       "      <td>No</td>\n",
       "      <td>3.8/5</td>\n",
       "      <td>918</td>\n",
       "      <td>+91 9663487993</td>\n",
       "      <td>Banashankari</td>\n",
       "      <td>Cafe, Casual Dining</td>\n",
       "      <td>Churros, Cannelloni, Minestrone Soup, Hot Choc...</td>\n",
       "      <td>Cafe, Mexican, Italian</td>\n",
       "      <td>800</td>\n",
       "      <td>[('Rated 3.0', \"RATED\\n  Ambience is not that ...</td>\n",
       "      <td>[]</td>\n",
       "      <td>Buffet</td>\n",
       "      <td>Banashankari</td>\n",
       "    </tr>\n",
       "    <tr>\n",
       "      <th>3</th>\n",
       "      <td>https://www.zomato.com/bangalore/addhuri-udupi...</td>\n",
       "      <td>1st Floor, Annakuteera, 3rd Stage, Banashankar...</td>\n",
       "      <td>Addhuri Udupi Bhojana</td>\n",
       "      <td>No</td>\n",
       "      <td>No</td>\n",
       "      <td>3.7/5</td>\n",
       "      <td>88</td>\n",
       "      <td>+91 9620009302</td>\n",
       "      <td>Banashankari</td>\n",
       "      <td>Quick Bites</td>\n",
       "      <td>Masala Dosa</td>\n",
       "      <td>South Indian, North Indian</td>\n",
       "      <td>300</td>\n",
       "      <td>[('Rated 4.0', \"RATED\\n  Great food and proper...</td>\n",
       "      <td>[]</td>\n",
       "      <td>Buffet</td>\n",
       "      <td>Banashankari</td>\n",
       "    </tr>\n",
       "    <tr>\n",
       "      <th>4</th>\n",
       "      <td>https://www.zomato.com/bangalore/grand-village...</td>\n",
       "      <td>10, 3rd Floor, Lakshmi Associates, Gandhi Baza...</td>\n",
       "      <td>Grand Village</td>\n",
       "      <td>No</td>\n",
       "      <td>No</td>\n",
       "      <td>3.8/5</td>\n",
       "      <td>166</td>\n",
       "      <td>+91 8026612447\\r\\n+91 9901210005</td>\n",
       "      <td>Basavanagudi</td>\n",
       "      <td>Casual Dining</td>\n",
       "      <td>Panipuri, Gol Gappe</td>\n",
       "      <td>North Indian, Rajasthani</td>\n",
       "      <td>600</td>\n",
       "      <td>[('Rated 4.0', 'RATED\\n  Very good restaurant ...</td>\n",
       "      <td>[]</td>\n",
       "      <td>Buffet</td>\n",
       "      <td>Banashankari</td>\n",
       "    </tr>\n",
       "  </tbody>\n",
       "</table>\n",
       "</div>"
      ],
      "text/plain": [
       "                                                 url  \\\n",
       "0  https://www.zomato.com/bangalore/jalsa-banasha...   \n",
       "1  https://www.zomato.com/bangalore/spice-elephan...   \n",
       "2  https://www.zomato.com/SanchurroBangalore?cont...   \n",
       "3  https://www.zomato.com/bangalore/addhuri-udupi...   \n",
       "4  https://www.zomato.com/bangalore/grand-village...   \n",
       "\n",
       "                                             address                   name  \\\n",
       "0  942, 21st Main Road, 2nd Stage, Banashankari, ...                  Jalsa   \n",
       "1  2nd Floor, 80 Feet Road, Near Big Bazaar, 6th ...         Spice Elephant   \n",
       "2  1112, Next to KIMS Medical College, 17th Cross...        San Churro Cafe   \n",
       "3  1st Floor, Annakuteera, 3rd Stage, Banashankar...  Addhuri Udupi Bhojana   \n",
       "4  10, 3rd Floor, Lakshmi Associates, Gandhi Baza...          Grand Village   \n",
       "\n",
       "  online_order book_table   rate  votes                             phone  \\\n",
       "0          Yes        Yes  4.1/5    775    080 42297555\\r\\n+91 9743772233   \n",
       "1          Yes         No  4.1/5    787                      080 41714161   \n",
       "2          Yes         No  3.8/5    918                    +91 9663487993   \n",
       "3           No         No  3.7/5     88                    +91 9620009302   \n",
       "4           No         No  3.8/5    166  +91 8026612447\\r\\n+91 9901210005   \n",
       "\n",
       "       location            rest_type  \\\n",
       "0  Banashankari        Casual Dining   \n",
       "1  Banashankari        Casual Dining   \n",
       "2  Banashankari  Cafe, Casual Dining   \n",
       "3  Banashankari          Quick Bites   \n",
       "4  Basavanagudi        Casual Dining   \n",
       "\n",
       "                                          dish_liked  \\\n",
       "0  Pasta, Lunch Buffet, Masala Papad, Paneer Laja...   \n",
       "1  Momos, Lunch Buffet, Chocolate Nirvana, Thai G...   \n",
       "2  Churros, Cannelloni, Minestrone Soup, Hot Choc...   \n",
       "3                                        Masala Dosa   \n",
       "4                                Panipuri, Gol Gappe   \n",
       "\n",
       "                         cuisines approx_cost(for two people)  \\\n",
       "0  North Indian, Mughlai, Chinese                         800   \n",
       "1     Chinese, North Indian, Thai                         800   \n",
       "2          Cafe, Mexican, Italian                         800   \n",
       "3      South Indian, North Indian                         300   \n",
       "4        North Indian, Rajasthani                         600   \n",
       "\n",
       "                                        reviews_list menu_item  \\\n",
       "0  [('Rated 4.0', 'RATED\\n  A beautiful place to ...        []   \n",
       "1  [('Rated 4.0', 'RATED\\n  Had been here for din...        []   \n",
       "2  [('Rated 3.0', \"RATED\\n  Ambience is not that ...        []   \n",
       "3  [('Rated 4.0', \"RATED\\n  Great food and proper...        []   \n",
       "4  [('Rated 4.0', 'RATED\\n  Very good restaurant ...        []   \n",
       "\n",
       "  listed_in(type) listed_in(city)  \n",
       "0          Buffet    Banashankari  \n",
       "1          Buffet    Banashankari  \n",
       "2          Buffet    Banashankari  \n",
       "3          Buffet    Banashankari  \n",
       "4          Buffet    Banashankari  "
      ]
     },
     "execution_count": 4,
     "metadata": {},
     "output_type": "execute_result"
    }
   ],
   "source": [
    "data = pd.read_csv('zomato.csv')\n",
    "df = data.copy()\n",
    "df.head()"
   ]
  },
  {
   "cell_type": "code",
   "execution_count": 5,
   "id": "f71903bc-f3fa-46ae-85fe-f86bc94f1eac",
   "metadata": {
    "execution": {
     "iopub.execute_input": "2024-09-22T14:38:06.386097Z",
     "iopub.status.busy": "2024-09-22T14:38:06.384099Z",
     "iopub.status.idle": "2024-09-22T14:38:08.440174Z",
     "shell.execute_reply": "2024-09-22T14:38:08.437634Z",
     "shell.execute_reply.started": "2024-09-22T14:38:06.386097Z"
    }
   },
   "outputs": [
    {
     "name": "stdout",
     "output_type": "stream",
     "text": [
      "<class 'pandas.core.frame.DataFrame'>\n",
      "RangeIndex: 51717 entries, 0 to 51716\n",
      "Data columns (total 17 columns):\n",
      " #   Column                       Non-Null Count  Dtype \n",
      "---  ------                       --------------  ----- \n",
      " 0   url                          51717 non-null  object\n",
      " 1   address                      51717 non-null  object\n",
      " 2   name                         51717 non-null  object\n",
      " 3   online_order                 51717 non-null  object\n",
      " 4   book_table                   51717 non-null  object\n",
      " 5   rate                         43942 non-null  object\n",
      " 6   votes                        51717 non-null  int64 \n",
      " 7   phone                        50509 non-null  object\n",
      " 8   location                     51696 non-null  object\n",
      " 9   rest_type                    51490 non-null  object\n",
      " 10  dish_liked                   23639 non-null  object\n",
      " 11  cuisines                     51672 non-null  object\n",
      " 12  approx_cost(for two people)  51371 non-null  object\n",
      " 13  reviews_list                 51717 non-null  object\n",
      " 14  menu_item                    51717 non-null  object\n",
      " 15  listed_in(type)              51717 non-null  object\n",
      " 16  listed_in(city)              51717 non-null  object\n",
      "dtypes: int64(1), object(16)\n",
      "memory usage: 6.7+ MB\n"
     ]
    }
   ],
   "source": [
    "df.info()"
   ]
  },
  {
   "cell_type": "markdown",
   "id": "cfc389dd-0eb3-4f29-b419-785efef1e303",
   "metadata": {},
   "source": [
    "# Cleaning Data"
   ]
  },
  {
   "cell_type": "code",
   "execution_count": 9,
   "id": "ad6c2930-8f0c-40f0-9126-ff9d4c782a7e",
   "metadata": {
    "execution": {
     "iopub.execute_input": "2024-09-22T14:41:10.234618Z",
     "iopub.status.busy": "2024-09-22T14:41:10.233615Z",
     "iopub.status.idle": "2024-09-22T14:41:10.342919Z",
     "shell.execute_reply": "2024-09-22T14:41:10.341378Z",
     "shell.execute_reply.started": "2024-09-22T14:41:10.234618Z"
    }
   },
   "outputs": [
    {
     "data": {
      "text/plain": [
       "url                                0\n",
       "address                            0\n",
       "name                               0\n",
       "online_order                       0\n",
       "book_table                         0\n",
       "rate                            7775\n",
       "votes                              0\n",
       "phone                           1208\n",
       "location                          21\n",
       "rest_type                        227\n",
       "dish_liked                     28078\n",
       "cuisines                          45\n",
       "approx_cost(for two people)      346\n",
       "reviews_list                       0\n",
       "menu_item                          0\n",
       "listed_in(type)                    0\n",
       "listed_in(city)                    0\n",
       "dtype: int64"
      ]
     },
     "execution_count": 9,
     "metadata": {},
     "output_type": "execute_result"
    }
   ],
   "source": [
    "df.isnull().sum()"
   ]
  },
  {
   "cell_type": "code",
   "execution_count": 11,
   "id": "2193562f-2947-4959-92a4-1325c17f09aa",
   "metadata": {
    "execution": {
     "iopub.execute_input": "2024-09-22T14:41:10.732164Z",
     "iopub.status.busy": "2024-09-22T14:41:10.732164Z",
     "iopub.status.idle": "2024-09-22T14:41:14.383234Z",
     "shell.execute_reply": "2024-09-22T14:41:14.381725Z",
     "shell.execute_reply.started": "2024-09-22T14:41:10.732164Z"
    }
   },
   "outputs": [
    {
     "data": {
      "text/plain": [
       "0"
      ]
     },
     "execution_count": 11,
     "metadata": {},
     "output_type": "execute_result"
    }
   ],
   "source": [
    "df.duplicated().sum()"
   ]
  },
  {
   "cell_type": "code",
   "execution_count": 12,
   "id": "9522c944-3aca-4172-8e29-305a3cf49c0a",
   "metadata": {
    "execution": {
     "iopub.execute_input": "2024-09-22T14:41:14.388232Z",
     "iopub.status.busy": "2024-09-22T14:41:14.387233Z",
     "iopub.status.idle": "2024-09-22T14:41:14.572646Z",
     "shell.execute_reply": "2024-09-22T14:41:14.570637Z",
     "shell.execute_reply.started": "2024-09-22T14:41:14.388232Z"
    }
   },
   "outputs": [
    {
     "name": "stdout",
     "output_type": "stream",
     "text": [
      "<class 'pandas.core.frame.DataFrame'>\n",
      "RangeIndex: 51717 entries, 0 to 51716\n",
      "Data columns (total 17 columns):\n",
      " #   Column                       Non-Null Count  Dtype \n",
      "---  ------                       --------------  ----- \n",
      " 0   url                          51717 non-null  object\n",
      " 1   address                      51717 non-null  object\n",
      " 2   name                         51717 non-null  object\n",
      " 3   online_order                 51717 non-null  object\n",
      " 4   book_table                   51717 non-null  object\n",
      " 5   rate                         43942 non-null  object\n",
      " 6   votes                        51717 non-null  int64 \n",
      " 7   phone                        50509 non-null  object\n",
      " 8   location                     51696 non-null  object\n",
      " 9   rest_type                    51490 non-null  object\n",
      " 10  dish_liked                   23639 non-null  object\n",
      " 11  cuisines                     51672 non-null  object\n",
      " 12  approx_cost(for two people)  51371 non-null  object\n",
      " 13  reviews_list                 51717 non-null  object\n",
      " 14  menu_item                    51717 non-null  object\n",
      " 15  listed_in(type)              51717 non-null  object\n",
      " 16  listed_in(city)              51717 non-null  object\n",
      "dtypes: int64(1), object(16)\n",
      "memory usage: 6.7+ MB\n"
     ]
    }
   ],
   "source": [
    "df.info()"
   ]
  },
  {
   "cell_type": "code",
   "execution_count": 13,
   "id": "8564abd5-0b2b-48a9-bfc4-5dbb38dc70f3",
   "metadata": {
    "execution": {
     "iopub.execute_input": "2024-09-22T14:41:14.577679Z",
     "iopub.status.busy": "2024-09-22T14:41:14.577679Z",
     "iopub.status.idle": "2024-09-22T14:41:14.967576Z",
     "shell.execute_reply": "2024-09-22T14:41:14.966954Z",
     "shell.execute_reply.started": "2024-09-22T14:41:14.577679Z"
    }
   },
   "outputs": [],
   "source": [
    "df['rate'] = df['rate'].str.replace('/5', '').str.strip()\n",
    "df['rate'] = pd.to_numeric(df['rate'], errors='coerce')"
   ]
  },
  {
   "cell_type": "code",
   "execution_count": 17,
   "id": "8f3b455b-9213-455b-8e52-498434d1593c",
   "metadata": {
    "execution": {
     "iopub.execute_input": "2024-09-22T14:41:20.872668Z",
     "iopub.status.busy": "2024-09-22T14:41:20.872668Z",
     "iopub.status.idle": "2024-09-22T14:41:21.198915Z",
     "shell.execute_reply": "2024-09-22T14:41:21.196474Z",
     "shell.execute_reply.started": "2024-09-22T14:41:20.872668Z"
    }
   },
   "outputs": [],
   "source": [
    "df['approx_cost(for two people)'] = pd.to_numeric(df['approx_cost(for two people)'], errors='coerce').fillna(0).astype(int)"
   ]
  },
  {
   "cell_type": "code",
   "execution_count": 19,
   "id": "571d0504-e0d7-4218-8fbd-508a845d8339",
   "metadata": {
    "execution": {
     "iopub.execute_input": "2024-09-22T14:41:21.562598Z",
     "iopub.status.busy": "2024-09-22T14:41:21.557587Z",
     "iopub.status.idle": "2024-09-22T14:41:21.816818Z",
     "shell.execute_reply": "2024-09-22T14:41:21.814880Z",
     "shell.execute_reply.started": "2024-09-22T14:41:21.562598Z"
    }
   },
   "outputs": [],
   "source": [
    "df.drop(['url','address','phone'],axis = 1 , inplace = True)"
   ]
  },
  {
   "cell_type": "code",
   "execution_count": 20,
   "id": "f502c31b-0cd8-43da-a9e0-329935c7abb6",
   "metadata": {
    "execution": {
     "iopub.execute_input": "2024-09-22T14:41:21.827416Z",
     "iopub.status.busy": "2024-09-22T14:41:21.827416Z",
     "iopub.status.idle": "2024-09-22T14:41:21.992561Z",
     "shell.execute_reply": "2024-09-22T14:41:21.986116Z",
     "shell.execute_reply.started": "2024-09-22T14:41:21.827416Z"
    }
   },
   "outputs": [
    {
     "data": {
      "text/plain": [
       "Index(['name', 'online_order', 'book_table', 'rate', 'votes', 'location',\n",
       "       'rest_type', 'dish_liked', 'cuisines', 'approx_cost(for two people)',\n",
       "       'reviews_list', 'menu_item', 'listed_in(type)', 'listed_in(city)'],\n",
       "      dtype='object')"
      ]
     },
     "execution_count": 20,
     "metadata": {},
     "output_type": "execute_result"
    }
   ],
   "source": [
    "df.columns"
   ]
  },
  {
   "cell_type": "code",
   "execution_count": 22,
   "id": "f496141c-b471-4eaf-9fbe-6834f4f0a090",
   "metadata": {
    "execution": {
     "iopub.execute_input": "2024-09-22T14:41:23.365565Z",
     "iopub.status.busy": "2024-09-22T14:41:23.362567Z",
     "iopub.status.idle": "2024-09-22T14:41:23.450210Z",
     "shell.execute_reply": "2024-09-22T14:41:23.445597Z",
     "shell.execute_reply.started": "2024-09-22T14:41:23.365565Z"
    }
   },
   "outputs": [],
   "source": [
    "df.rename (columns = {'approx_cost(for two people)':'ave_cost_for_2','listed_in(type)':'restaurant_category','listed_in(city)':'restaurant_region'},inplace =True)"
   ]
  },
  {
   "cell_type": "code",
   "execution_count": 24,
   "id": "f72201a8-6df4-41d7-bc93-4274cea37141",
   "metadata": {
    "execution": {
     "iopub.execute_input": "2024-09-22T14:41:23.812622Z",
     "iopub.status.busy": "2024-09-22T14:41:23.805111Z",
     "iopub.status.idle": "2024-09-22T14:41:23.962772Z",
     "shell.execute_reply": "2024-09-22T14:41:23.952260Z",
     "shell.execute_reply.started": "2024-09-22T14:41:23.812622Z"
    }
   },
   "outputs": [
    {
     "data": {
      "text/plain": [
       "rate\n",
       "3.7    5\n",
       "3.6    3\n",
       "3.9    2\n",
       "3.8    2\n",
       "3.4    2\n",
       "3.3    2\n",
       "4.0    1\n",
       "4.3    1\n",
       "4.1    1\n",
       "Name: count, dtype: int64"
      ]
     },
     "execution_count": 24,
     "metadata": {},
     "output_type": "execute_result"
    }
   ],
   "source": [
    "df[df['votes'] == 0]['rate'].value_counts()"
   ]
  },
  {
   "cell_type": "code",
   "execution_count": 25,
   "id": "acf3d639-f615-4d2c-86e7-2db5a1ffd31f",
   "metadata": {
    "execution": {
     "iopub.execute_input": "2024-09-22T14:41:23.980430Z",
     "iopub.status.busy": "2024-09-22T14:41:23.979432Z",
     "iopub.status.idle": "2024-09-22T14:41:28.968088Z",
     "shell.execute_reply": "2024-09-22T14:41:28.965385Z",
     "shell.execute_reply.started": "2024-09-22T14:41:23.980430Z"
    }
   },
   "outputs": [],
   "source": [
    "def change_rate(row):\n",
    "    if row['votes'] == 0:\n",
    "        return 0\n",
    "    else:\n",
    "        return row['rate']\n",
    "\n",
    "df['rate'] = df.apply(change_rate, axis=1)"
   ]
  },
  {
   "cell_type": "code",
   "execution_count": 26,
   "id": "466875a7-83c1-416d-a2fd-afd5cf37521c",
   "metadata": {
    "execution": {
     "iopub.execute_input": "2024-09-22T14:41:28.972628Z",
     "iopub.status.busy": "2024-09-22T14:41:28.972628Z",
     "iopub.status.idle": "2024-09-22T14:41:29.135491Z",
     "shell.execute_reply": "2024-09-22T14:41:29.065202Z",
     "shell.execute_reply.started": "2024-09-22T14:41:28.972628Z"
    }
   },
   "outputs": [
    {
     "data": {
      "text/plain": [
       "rate\n",
       "0.0    10027\n",
       "Name: count, dtype: int64"
      ]
     },
     "execution_count": 26,
     "metadata": {},
     "output_type": "execute_result"
    }
   ],
   "source": [
    "df[df['votes'] == 0]['rate'].value_counts()"
   ]
  },
  {
   "cell_type": "code",
   "execution_count": 29,
   "id": "2c194cfc-73f7-415e-a7b7-4ae82293e050",
   "metadata": {
    "execution": {
     "iopub.execute_input": "2024-09-22T14:41:29.683734Z",
     "iopub.status.busy": "2024-09-22T14:41:29.677533Z",
     "iopub.status.idle": "2024-09-22T14:41:29.777582Z",
     "shell.execute_reply": "2024-09-22T14:41:29.768449Z",
     "shell.execute_reply.started": "2024-09-22T14:41:29.677533Z"
    }
   },
   "outputs": [],
   "source": [
    "# Create a new column 'is_good' (1 if rate > 3.75, otherwise 0)\n",
    "df['target'] = np.where(df['rate'] > 3.75, 1, 0)"
   ]
  },
  {
   "cell_type": "code",
   "execution_count": 30,
   "id": "6e2c365e-cb2f-441c-aea8-3bbc1a0e046e",
   "metadata": {
    "execution": {
     "iopub.execute_input": "2024-09-22T14:41:29.792694Z",
     "iopub.status.busy": "2024-09-22T14:41:29.787682Z",
     "iopub.status.idle": "2024-09-22T14:41:29.962582Z",
     "shell.execute_reply": "2024-09-22T14:41:29.953044Z",
     "shell.execute_reply.started": "2024-09-22T14:41:29.792694Z"
    }
   },
   "outputs": [],
   "source": [
    "df.drop(['rate'], axis =1 , inplace = True)"
   ]
  },
  {
   "cell_type": "code",
   "execution_count": 31,
   "id": "272078d2-c698-47d9-9529-124fc8dd9240",
   "metadata": {
    "execution": {
     "iopub.execute_input": "2024-09-22T14:41:30.047073Z",
     "iopub.status.busy": "2024-09-22T14:41:30.038087Z",
     "iopub.status.idle": "2024-09-22T14:41:30.287568Z",
     "shell.execute_reply": "2024-09-22T14:41:30.285053Z",
     "shell.execute_reply.started": "2024-09-22T14:41:30.046073Z"
    }
   },
   "outputs": [
    {
     "data": {
      "text/html": [
       "<div>\n",
       "<style scoped>\n",
       "    .dataframe tbody tr th:only-of-type {\n",
       "        vertical-align: middle;\n",
       "    }\n",
       "\n",
       "    .dataframe tbody tr th {\n",
       "        vertical-align: top;\n",
       "    }\n",
       "\n",
       "    .dataframe thead th {\n",
       "        text-align: right;\n",
       "    }\n",
       "</style>\n",
       "<table border=\"1\" class=\"dataframe\">\n",
       "  <thead>\n",
       "    <tr style=\"text-align: right;\">\n",
       "      <th></th>\n",
       "      <th>name</th>\n",
       "      <th>online_order</th>\n",
       "      <th>book_table</th>\n",
       "      <th>votes</th>\n",
       "      <th>location</th>\n",
       "      <th>rest_type</th>\n",
       "      <th>dish_liked</th>\n",
       "      <th>cuisines</th>\n",
       "      <th>ave_cost_for_2</th>\n",
       "      <th>reviews_list</th>\n",
       "      <th>menu_item</th>\n",
       "      <th>restaurant_category</th>\n",
       "      <th>restaurant_region</th>\n",
       "      <th>target</th>\n",
       "    </tr>\n",
       "  </thead>\n",
       "  <tbody>\n",
       "    <tr>\n",
       "      <th>0</th>\n",
       "      <td>Jalsa</td>\n",
       "      <td>Yes</td>\n",
       "      <td>Yes</td>\n",
       "      <td>775</td>\n",
       "      <td>Banashankari</td>\n",
       "      <td>Casual Dining</td>\n",
       "      <td>Pasta, Lunch Buffet, Masala Papad, Paneer Laja...</td>\n",
       "      <td>North Indian, Mughlai, Chinese</td>\n",
       "      <td>800</td>\n",
       "      <td>[('Rated 4.0', 'RATED\\n  A beautiful place to ...</td>\n",
       "      <td>[]</td>\n",
       "      <td>Buffet</td>\n",
       "      <td>Banashankari</td>\n",
       "      <td>1</td>\n",
       "    </tr>\n",
       "    <tr>\n",
       "      <th>1</th>\n",
       "      <td>Spice Elephant</td>\n",
       "      <td>Yes</td>\n",
       "      <td>No</td>\n",
       "      <td>787</td>\n",
       "      <td>Banashankari</td>\n",
       "      <td>Casual Dining</td>\n",
       "      <td>Momos, Lunch Buffet, Chocolate Nirvana, Thai G...</td>\n",
       "      <td>Chinese, North Indian, Thai</td>\n",
       "      <td>800</td>\n",
       "      <td>[('Rated 4.0', 'RATED\\n  Had been here for din...</td>\n",
       "      <td>[]</td>\n",
       "      <td>Buffet</td>\n",
       "      <td>Banashankari</td>\n",
       "      <td>1</td>\n",
       "    </tr>\n",
       "    <tr>\n",
       "      <th>2</th>\n",
       "      <td>San Churro Cafe</td>\n",
       "      <td>Yes</td>\n",
       "      <td>No</td>\n",
       "      <td>918</td>\n",
       "      <td>Banashankari</td>\n",
       "      <td>Cafe, Casual Dining</td>\n",
       "      <td>Churros, Cannelloni, Minestrone Soup, Hot Choc...</td>\n",
       "      <td>Cafe, Mexican, Italian</td>\n",
       "      <td>800</td>\n",
       "      <td>[('Rated 3.0', \"RATED\\n  Ambience is not that ...</td>\n",
       "      <td>[]</td>\n",
       "      <td>Buffet</td>\n",
       "      <td>Banashankari</td>\n",
       "      <td>1</td>\n",
       "    </tr>\n",
       "    <tr>\n",
       "      <th>3</th>\n",
       "      <td>Addhuri Udupi Bhojana</td>\n",
       "      <td>No</td>\n",
       "      <td>No</td>\n",
       "      <td>88</td>\n",
       "      <td>Banashankari</td>\n",
       "      <td>Quick Bites</td>\n",
       "      <td>Masala Dosa</td>\n",
       "      <td>South Indian, North Indian</td>\n",
       "      <td>300</td>\n",
       "      <td>[('Rated 4.0', \"RATED\\n  Great food and proper...</td>\n",
       "      <td>[]</td>\n",
       "      <td>Buffet</td>\n",
       "      <td>Banashankari</td>\n",
       "      <td>0</td>\n",
       "    </tr>\n",
       "    <tr>\n",
       "      <th>4</th>\n",
       "      <td>Grand Village</td>\n",
       "      <td>No</td>\n",
       "      <td>No</td>\n",
       "      <td>166</td>\n",
       "      <td>Basavanagudi</td>\n",
       "      <td>Casual Dining</td>\n",
       "      <td>Panipuri, Gol Gappe</td>\n",
       "      <td>North Indian, Rajasthani</td>\n",
       "      <td>600</td>\n",
       "      <td>[('Rated 4.0', 'RATED\\n  Very good restaurant ...</td>\n",
       "      <td>[]</td>\n",
       "      <td>Buffet</td>\n",
       "      <td>Banashankari</td>\n",
       "      <td>1</td>\n",
       "    </tr>\n",
       "  </tbody>\n",
       "</table>\n",
       "</div>"
      ],
      "text/plain": [
       "                    name online_order book_table  votes      location  \\\n",
       "0                  Jalsa          Yes        Yes    775  Banashankari   \n",
       "1         Spice Elephant          Yes         No    787  Banashankari   \n",
       "2        San Churro Cafe          Yes         No    918  Banashankari   \n",
       "3  Addhuri Udupi Bhojana           No         No     88  Banashankari   \n",
       "4          Grand Village           No         No    166  Basavanagudi   \n",
       "\n",
       "             rest_type                                         dish_liked  \\\n",
       "0        Casual Dining  Pasta, Lunch Buffet, Masala Papad, Paneer Laja...   \n",
       "1        Casual Dining  Momos, Lunch Buffet, Chocolate Nirvana, Thai G...   \n",
       "2  Cafe, Casual Dining  Churros, Cannelloni, Minestrone Soup, Hot Choc...   \n",
       "3          Quick Bites                                        Masala Dosa   \n",
       "4        Casual Dining                                Panipuri, Gol Gappe   \n",
       "\n",
       "                         cuisines  ave_cost_for_2  \\\n",
       "0  North Indian, Mughlai, Chinese             800   \n",
       "1     Chinese, North Indian, Thai             800   \n",
       "2          Cafe, Mexican, Italian             800   \n",
       "3      South Indian, North Indian             300   \n",
       "4        North Indian, Rajasthani             600   \n",
       "\n",
       "                                        reviews_list menu_item  \\\n",
       "0  [('Rated 4.0', 'RATED\\n  A beautiful place to ...        []   \n",
       "1  [('Rated 4.0', 'RATED\\n  Had been here for din...        []   \n",
       "2  [('Rated 3.0', \"RATED\\n  Ambience is not that ...        []   \n",
       "3  [('Rated 4.0', \"RATED\\n  Great food and proper...        []   \n",
       "4  [('Rated 4.0', 'RATED\\n  Very good restaurant ...        []   \n",
       "\n",
       "  restaurant_category restaurant_region  target  \n",
       "0              Buffet      Banashankari       1  \n",
       "1              Buffet      Banashankari       1  \n",
       "2              Buffet      Banashankari       1  \n",
       "3              Buffet      Banashankari       0  \n",
       "4              Buffet      Banashankari       1  "
      ]
     },
     "execution_count": 31,
     "metadata": {},
     "output_type": "execute_result"
    }
   ],
   "source": [
    "df.head()"
   ]
  },
  {
   "cell_type": "code",
   "execution_count": 32,
   "id": "2339e9f7-48d6-497c-844c-94e95f6f6e1b",
   "metadata": {
    "execution": {
     "iopub.execute_input": "2024-09-22T14:41:30.297625Z",
     "iopub.status.busy": "2024-09-22T14:41:30.292580Z",
     "iopub.status.idle": "2024-09-22T14:41:30.687554Z",
     "shell.execute_reply": "2024-09-22T14:41:30.687554Z",
     "shell.execute_reply.started": "2024-09-22T14:41:30.297625Z"
    }
   },
   "outputs": [
    {
     "name": "stdout",
     "output_type": "stream",
     "text": [
      "<class 'pandas.core.frame.DataFrame'>\n",
      "RangeIndex: 51717 entries, 0 to 51716\n",
      "Data columns (total 14 columns):\n",
      " #   Column               Non-Null Count  Dtype \n",
      "---  ------               --------------  ----- \n",
      " 0   name                 51717 non-null  object\n",
      " 1   online_order         51717 non-null  object\n",
      " 2   book_table           51717 non-null  object\n",
      " 3   votes                51717 non-null  int64 \n",
      " 4   location             51696 non-null  object\n",
      " 5   rest_type            51490 non-null  object\n",
      " 6   dish_liked           23639 non-null  object\n",
      " 7   cuisines             51672 non-null  object\n",
      " 8   ave_cost_for_2       51717 non-null  int32 \n",
      " 9   reviews_list         51717 non-null  object\n",
      " 10  menu_item            51717 non-null  object\n",
      " 11  restaurant_category  51717 non-null  object\n",
      " 12  restaurant_region    51717 non-null  object\n",
      " 13  target               51717 non-null  int32 \n",
      "dtypes: int32(2), int64(1), object(11)\n",
      "memory usage: 5.1+ MB\n"
     ]
    }
   ],
   "source": [
    "df.info()"
   ]
  },
  {
   "cell_type": "markdown",
   "id": "04fbd3da-d98c-46eb-b01a-5e805c81e50b",
   "metadata": {},
   "source": [
    "## Analysis"
   ]
  },
  {
   "cell_type": "markdown",
   "id": "73e7d6c8-0c98-406d-8e34-f7d1bd0d2c2d",
   "metadata": {},
   "source": [
    "#### Comparison between online ordering and booking tables in terms of which is more popular?"
   ]
  },
  {
   "cell_type": "code",
   "execution_count": null,
   "id": "24b3b4b8-1a01-4197-8732-793b6f7eb13f",
   "metadata": {},
   "outputs": [],
   "source": [
    "online_order_data = df['online_order'].value_counts().reset_index()\n",
    "book_table_data = df['book_table'].value_counts().reset_index()\n",
    "\n",
    "fig = make_subplots(rows=1, cols=2, subplot_titles=('Online Orders', 'Booking Table'))\n",
    "\n",
    "online_order_bar = px.bar(online_order_data, x='online_order', y='count', color = 'online_order', text_auto=True, color_discrete_sequence=px.colors.qualitative.Bold)\n",
    "\n",
    "for trace in online_order_bar['data']:\n",
    "    fig.add_trace(trace, row=1, col=1)\n",
    "\n",
    "book_table_bar = px.bar(book_table_data, x='book_table', y='count', color = 'book_table' , text_auto=True, color_discrete_sequence=px.colors.qualitative.Bold)\n",
    "\n",
    "for trace in book_table_bar['data']:\n",
    "    fig.add_trace(trace, row=1, col=2)\n",
    "\n",
    "fig.update_layout(\n",
    "    title_text=\"Online Orders and Table Booking\", \n",
    "    title_font=dict(size=20, family='Arial', color='black'),\n",
    "    title_x=0.5,\n",
    "    showlegend=False)\n",
    "\n",
    "fig.show()"
   ]
  },
  {
   "cell_type": "markdown",
   "id": "56a6fa3f-53d0-4cdf-8f34-ee4daf39b782",
   "metadata": {},
   "source": [
    "#### Size of restaurant Category"
   ]
  },
  {
   "cell_type": "code",
   "execution_count": null,
   "id": "46d4f740-bf4a-475f-b8a5-2c52cd30d8d6",
   "metadata": {},
   "outputs": [],
   "source": [
    "fig = px.bar(df['restaurant_category'].value_counts().reset_index(), x='restaurant_category', y='count', \n",
    "              text_auto=True, color='restaurant_category',color_discrete_sequence=px.colors.qualitative.Bold)\n",
    "\n",
    "fig.update_layout(\n",
    "    title_text=\"Restaurant Category\", \n",
    "    title_font=dict(size=20, family='Arial', color='black'),\n",
    "    title_x=0.5,\n",
    "    showlegend=False)\n",
    "\n",
    "fig.show()"
   ]
  },
  {
   "cell_type": "markdown",
   "id": "90776ae6-d7c3-49b7-a871-ab896b9ddaf6",
   "metadata": {},
   "source": [
    "#### The most restaurants that have branches in all region"
   ]
  },
  {
   "cell_type": "code",
   "execution_count": null,
   "id": "0a0e485d-988c-45b0-9903-865c376debc7",
   "metadata": {},
   "outputs": [],
   "source": [
    "df['name'].nunique()"
   ]
  },
  {
   "cell_type": "code",
   "execution_count": null,
   "id": "12b3941b-ee8e-47ad-9393-2f83358b2068",
   "metadata": {},
   "outputs": [],
   "source": [
    "df['restaurant_region'].nunique()"
   ]
  },
  {
   "cell_type": "code",
   "execution_count": null,
   "id": "5bac9e04-862c-48cc-b2c6-7a4e4df750f8",
   "metadata": {},
   "outputs": [],
   "source": [
    "fig = px.bar(df.groupby(['name'])\n",
    "       .agg({'restaurant_region': 'nunique'}).reset_index()\n",
    "       .rename(columns={'restaurant_region': 'count regions'})\n",
    "       .sort_values(by='count regions',ascending = False).head(20)\n",
    "       , x = 'name' ,y = 'count regions', text_auto = True , color = 'name')\n",
    "\n",
    "fig.update_layout(\n",
    "    title_text=\"The most restaurants that have branches in all region\", \n",
    "    title_font=dict(size=20, family='Arial', color='black'),\n",
    "    title_x=0.5,\n",
    "    showlegend=False)\n",
    "\n",
    "fig.show()"
   ]
  },
  {
   "cell_type": "markdown",
   "id": "59ce0250-318d-435e-bea8-c11c5085013a",
   "metadata": {},
   "source": [
    "#### Regions have the most restaurants"
   ]
  },
  {
   "cell_type": "code",
   "execution_count": null,
   "id": "1851b29c-f07a-403b-8a3f-b1944c722d17",
   "metadata": {},
   "outputs": [],
   "source": [
    "fig = px.bar(df.groupby(['restaurant_region'])\n",
    "       .agg({'name': 'nunique'}).reset_index()\n",
    "       .rename(columns={'name': 'count names','restaurant_region':'region'})\n",
    "       .sort_values(by='count names', ascending=False).head(10)\n",
    "       , x = 'region' ,y = 'count names', text_auto = True , color = 'region')\n",
    "\n",
    "fig.update_layout(\n",
    "    title_text=\"Regions have the most restaurants\", \n",
    "    title_font=dict(size=20, family='Arial', color='black'),\n",
    "    title_x=0.5,\n",
    "    showlegend=False)\n",
    "\n",
    "fig.show()"
   ]
  },
  {
   "cell_type": "markdown",
   "id": "82b66c34-b11e-4493-a64e-c05807a84fbc",
   "metadata": {},
   "source": [
    "#### Locations have the most restaurants"
   ]
  },
  {
   "cell_type": "code",
   "execution_count": null,
   "id": "b6c89659-8958-41b8-bbed-00bcd42db8e7",
   "metadata": {},
   "outputs": [],
   "source": [
    "fig = px.bar(df.groupby(['location'])\n",
    "       .agg({'name': 'nunique'}).reset_index()\n",
    "       .rename(columns={'name': 'count names'})\n",
    "       .sort_values(by='count names', ascending=False).head(10)\n",
    "       , x = 'location' ,y = 'count names' , text_auto = True , color = 'location')\n",
    "\n",
    "fig.update_layout(\n",
    "    title_text=\"Locations have the most restaurants\", \n",
    "    title_font=dict(size=20, family='Arial', color='black'),\n",
    "    title_x=0.5,\n",
    "    showlegend=False)\n",
    "\n",
    "fig.show()"
   ]
  },
  {
   "cell_type": "markdown",
   "id": "92c5fd02-6086-4e4c-95bf-8563e8e509a6",
   "metadata": {},
   "source": [
    "#### The most famous rest_type in all restaurants"
   ]
  },
  {
   "cell_type": "code",
   "execution_count": null,
   "id": "570260a3-cf52-4ff1-a3d0-de4ecee1d4b5",
   "metadata": {},
   "outputs": [],
   "source": [
    "fig = px.bar(df['rest_type'].value_counts().reset_index()\n",
    "       .sort_values(by = 'count' , ascending = False).head(10)\n",
    "       ,x = 'rest_type' , y = 'count' , text_auto = True, color ='rest_type')\n",
    "\n",
    "fig.update_layout(\n",
    "    title_text=\"The most famous rest_type in all restaurants\", \n",
    "    title_font=dict(size=20, family='Arial', color='black'),\n",
    "    title_x=0.5,\n",
    "    showlegend=False)\n",
    "\n",
    "fig.show()"
   ]
  },
  {
   "cell_type": "markdown",
   "id": "4981ae9a-eb4b-4e8d-bdec-ab386514b0e3",
   "metadata": {},
   "source": [
    "#### The most famous dish liked"
   ]
  },
  {
   "cell_type": "code",
   "execution_count": null,
   "id": "68bb5a96-fb6a-4726-99d6-b13482b7d962",
   "metadata": {},
   "outputs": [],
   "source": [
    "df['dish_liked'].nunique()"
   ]
  },
  {
   "cell_type": "code",
   "execution_count": null,
   "id": "8464ae6f-ff41-4aab-b694-9e4f7184d0f8",
   "metadata": {},
   "outputs": [],
   "source": [
    "fig = px.bar(df['dish_liked'].value_counts().reset_index()\n",
    "       .sort_values(by='count',ascending=False)[1:].head(10)\n",
    "       , x = 'dish_liked', y = 'count', text_auto = True , color = 'dish_liked' )\n",
    "\n",
    "fig.update_layout(\n",
    "    title_text=\"The most famous dish liked\", \n",
    "    title_font=dict(size=20, family='Arial', color='black'),\n",
    "    title_x=0.5,\n",
    "    showlegend=False)\n",
    "\n",
    "fig.show()"
   ]
  },
  {
   "cell_type": "markdown",
   "id": "405b9940-4174-43f0-b1ff-c81650c68d8a",
   "metadata": {},
   "source": [
    "#### The most famous cuisines"
   ]
  },
  {
   "cell_type": "code",
   "execution_count": null,
   "id": "a9adbbb3-9807-44bc-9505-1f3faa3619e5",
   "metadata": {},
   "outputs": [],
   "source": [
    "fig = px.bar(df['cuisines'].value_counts().reset_index()\n",
    "       .sort_values(by='count',ascending=False)[1:].head(10)\n",
    "       , x = 'cuisines', y = 'count', text_auto = True , color = 'cuisines' )\n",
    "\n",
    "fig.update_layout(\n",
    "    title_text=\"The most famous cuisines\", \n",
    "    title_font=dict(size=20, family='Arial', color='black'),\n",
    "    title_x=0.5,\n",
    "    showlegend=False)\n",
    "\n",
    "fig.show()"
   ]
  },
  {
   "cell_type": "markdown",
   "id": "48fb3339-266b-4102-a7c0-94b46490041b",
   "metadata": {},
   "source": [
    "#### Distribution of average cost for two people"
   ]
  },
  {
   "cell_type": "code",
   "execution_count": null,
   "id": "e067d045-78f2-417f-8e2e-683d371be891",
   "metadata": {},
   "outputs": [],
   "source": [
    "# high average\n",
    "df['ave_cost_for_2'].max()"
   ]
  },
  {
   "cell_type": "code",
   "execution_count": null,
   "id": "34521a0e-84ee-4fe3-852e-f17b4ca3dd39",
   "metadata": {},
   "outputs": [],
   "source": [
    "# low average\n",
    "df['ave_cost_for_2'].min()"
   ]
  },
  {
   "cell_type": "code",
   "execution_count": null,
   "id": "733fb585-7d54-46e5-9751-c641e824a9bd",
   "metadata": {},
   "outputs": [],
   "source": [
    "fig = px.scatter(df, x = 'ave_cost_for_2')\n",
    "\n",
    "fig.update_layout(\n",
    "    title_text=\"Distribution of average cost for two people\", \n",
    "    title_font=dict(size=20, family='Arial', color='black'),\n",
    "    title_x=0.5,\n",
    "    showlegend=False)\n",
    "\n",
    "fig.show()"
   ]
  },
  {
   "cell_type": "markdown",
   "id": "a6916bf1-95b5-4a77-b1bc-5d50847a99b3",
   "metadata": {},
   "source": [
    "#### Correlations"
   ]
  },
  {
   "cell_type": "code",
   "execution_count": null,
   "id": "0b833337-7cee-4583-bd99-b32fda07a25e",
   "metadata": {},
   "outputs": [],
   "source": [
    "numeric_df = df.select_dtypes(include=['float64', 'int64' , 'int32'])\n",
    "\n",
    "correlation_matrix = numeric_df.corr()\n",
    "\n",
    "fig = px.imshow(correlation_matrix, \n",
    "                title=\"Correlation Matrix (Numeric Features Only)\",\n",
    "                labels=dict(x=\"Features\", y=\"Features\", color=\"Correlation\"),\n",
    "                color_continuous_scale='RdBu', \n",
    "                zmin=-1, zmax=1)\n",
    "\n",
    "fig.show()"
   ]
  },
  {
   "cell_type": "markdown",
   "id": "d85562b5-08f3-4def-be57-e7403676945b",
   "metadata": {
    "execution": {
     "iopub.execute_input": "2024-09-22T13:55:47.075696Z",
     "iopub.status.busy": "2024-09-22T13:55:47.075412Z",
     "iopub.status.idle": "2024-09-22T13:55:47.096984Z",
     "shell.execute_reply": "2024-09-22T13:55:47.096003Z",
     "shell.execute_reply.started": "2024-09-22T13:55:47.075696Z"
    }
   },
   "source": [
    "#### Classification"
   ]
  },
  {
   "cell_type": "code",
   "execution_count": null,
   "id": "047f3972-97fa-4629-8c42-5db275264ce1",
   "metadata": {},
   "outputs": [],
   "source": [
    "X = df.drop(['target', 'reviews_list', 'name', 'menu_item','votes'], axis=1) \n",
    "y = df['target']\n",
    "\n",
    "X_train, X_test, y_train, y_test = train_test_split(X, y, test_size=0.2, random_state=42)\n",
    "\n",
    "categorical_features = ['online_order', 'location', 'book_table', 'rest_type', 'dish_liked', 'cuisines', 'restaurant_category', 'restaurant_region']\n",
    "numeric_features = ['ave_cost_for_2']  \n",
    "\n",
    "categorical_transformer = Pipeline(steps=[('label_encoder', OneHotEncoder(handle_unknown='ignore'))])\n",
    "\n",
    "numeric_transformer = Pipeline(steps=[('imputer', SimpleImputer(strategy='mean')), ('normalizer', StandardScaler())])\n",
    "\n",
    "preprocessor = ColumnTransformer(transformers=[('num', numeric_transformer, numeric_features), \n",
    "                                               ('cat', categorical_transformer, categorical_features)])\n",
    "\n",
    "models = {\n",
    "    'RandomForest': RandomForestClassifier(),\n",
    "    'LogisticRegression': LogisticRegression(max_iter=1000),\n",
    "    'SVC': SVC()}\n",
    "\n",
    "results = {}\n",
    "\n",
    "for model_name, model in models.items():\n",
    "    pipeline = Pipeline(steps=[('preprocessor', preprocessor),\n",
    "                               ('classifier', model)])\n",
    "    \n",
    "    pipeline.fit(X_train, y_train)\n",
    "    \n",
    "    y_pred = pipeline.predict(X_test)\n",
    "    \n",
    "    accuracy = accuracy_score(y_test, y_pred)\n",
    "    results[model_name] = accuracy\n",
    "    \n",
    "best_model = max(results, key=results.get)\n",
    "print(f\"Best model is : {best_model} accuracy : {results[best_model]:.2f}\")\n",
    "\n",
    "best_model_pipeline = Pipeline(steps=[('preprocessor', preprocessor), ('classifier', models[best_model])])\n",
    "best_model_pipeline.fit(X, y)  \n",
    "joblib.dump(best_model_pipeline, f\"{best_model}.pkl\")"
   ]
  },
  {
   "cell_type": "markdown",
   "id": "9c340534-4d43-4d90-b56d-5d3efa0fc131",
   "metadata": {},
   "source": [
    "#### Draw models and display the best accuracy among them."
   ]
  },
  {
   "cell_type": "code",
   "execution_count": null,
   "id": "3a439377-7cf3-44c9-a1a0-ecc7b0207a08",
   "metadata": {},
   "outputs": [],
   "source": [
    "results_df = pd.DataFrame(list(results.items()), columns=['Model', 'Accuracy'])\n",
    "\n",
    "fig = px.bar(results_df, x='Model', y='Accuracy', title=\"Model Accuracy Comparison\", text='Accuracy', color='Model')\n",
    "\n",
    "fig.show()"
   ]
  },
  {
   "cell_type": "markdown",
   "id": "1d29311d-3e44-4302-953c-412d8db12ea0",
   "metadata": {},
   "source": [
    "#### Model Test"
   ]
  },
  {
   "cell_type": "code",
   "execution_count": null,
   "id": "d18d7695-f086-4290-a06b-84ba970c0368",
   "metadata": {},
   "outputs": [],
   "source": [
    "model = joblib.load('RandomForest.pkl')\n",
    "\n",
    "y_pred_new = model.predict(X_test)\n",
    "\n",
    "accuracy_new = accuracy_score(y_test, y_pred_new)\n",
    "\n",
    "print(f\"Accuracy on original test data: {accuracy_new:.2f}\")"
   ]
  },
  {
   "cell_type": "code",
   "execution_count": null,
   "id": "1c4d6d91-1e3a-4dfe-8f9e-69d7346d232f",
   "metadata": {},
   "outputs": [],
   "source": [
    "model = joblib.load('RandomForest.pkl')\n",
    "\n",
    "def get_user_input():\n",
    "    online_order = input(\"Is the order online? (Yes/No): \")\n",
    "    location = input(\"location: \")\n",
    "    book_table = input(\"Do you want to book a table? (Yes/No): \")\n",
    "    rest_type = input(\"Restaurant type: \")\n",
    "    dish_liked = input(\"Favorite dishes: \")\n",
    "    cuisines = input(\"Food: \")\n",
    "    restaurant_category = input(\"Restaurant Category: \")\n",
    "    restaurant_region = input(\"Restaurant area: \")\n",
    "    ave_cost_for_2 = float(input(\"Average cost for two people: \"))\n",
    "\n",
    "    data = {\n",
    "        'online_order': [online_order],\n",
    "        'location': [location],\n",
    "        'book_table': [book_table],\n",
    "        'rest_type': [rest_type],\n",
    "        'dish_liked': [dish_liked],\n",
    "        'cuisines': [cuisines],\n",
    "        'restaurant_category': [restaurant_category],\n",
    "        'restaurant_region': [restaurant_region],\n",
    "        'ave_cost_for_2': [ave_cost_for_2]\n",
    "    }\n",
    "    \n",
    "    return pd.DataFrame(data)\n",
    "\n",
    "user_input_df = get_user_input()\n",
    "\n",
    "y_pred_new = model.predict(user_input_df)\n",
    "\n",
    "print(\"predict:\", y_pred_new)"
   ]
  }
 ],
 "metadata": {
  "kernelspec": {
   "display_name": "Python 3 (ipykernel)",
   "language": "python",
   "name": "python3"
  },
  "language_info": {
   "codemirror_mode": {
    "name": "ipython",
    "version": 3
   },
   "file_extension": ".py",
   "mimetype": "text/x-python",
   "name": "python",
   "nbconvert_exporter": "python",
   "pygments_lexer": "ipython3",
   "version": "3.10.13"
  },
  "widgets": {
   "application/vnd.jupyter.widget-state+json": {
    "state": {},
    "version_major": 2,
    "version_minor": 0
   }
  }
 },
 "nbformat": 4,
 "nbformat_minor": 5
}
